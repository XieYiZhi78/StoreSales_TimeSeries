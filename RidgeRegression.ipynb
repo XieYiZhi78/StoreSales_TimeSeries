{
 "cells": [
  {
   "cell_type": "code",
   "execution_count": 1,
   "metadata": {
    "_cell_guid": "b1076dfc-b9ad-4769-8c92-a6c4dae69d19",
    "_uuid": "8f2839f25d086af736a60e9eeb907d3b93b6e0e5",
    "tags": []
   },
   "outputs": [],
   "source": [
    "import pandas as pd\n",
    "import numpy as np\n",
    "import matplotlib.pyplot as plt\n",
    "import matplotlib.ticker as ticker\n",
    "%matplotlib inline\n",
    "from sklearn.metrics import mean_squared_error\n",
    "from sklearn.preprocessing import LabelEncoder\n",
    "import time\n",
    "import os\n",
    "from itertools import product\n",
    "from pylab import rcParams\n",
    "from sklearn.linear_model import Ridge\n",
    "from sklearn.metrics import mean_squared_log_error\n",
    "from statsmodels.tsa.deterministic import CalendarFourier, DeterministicProcess, Fourier"
   ]
  },
  {
   "cell_type": "code",
   "execution_count": 4,
   "metadata": {
    "tags": []
   },
   "outputs": [],
   "source": [
    "datafolder ='C:/Users/Master/Store_Sales/'"
   ]
  },
  {
   "cell_type": "code",
   "execution_count": 5,
   "metadata": {
    "tags": []
   },
   "outputs": [],
   "source": [
    "oil= pd.read_csv(os.path.join(datafolder,'oil.csv'))\n",
    "holidays_events=pd.read_csv(os.path.join(datafolder,'holidays_events.csv'))\n",
    "stores= pd.read_csv(os.path.join(datafolder,'stores.csv'))\n",
    "train= pd.read_csv(os.path.join(datafolder,'train.csv'))\n",
    "test= pd.read_csv(os.path.join(datafolder,'test.csv'))"
   ]
  },
  {
   "cell_type": "code",
   "execution_count": 6,
   "metadata": {
    "tags": []
   },
   "outputs": [],
   "source": [
    "store_sales = pd.DataFrame(index=pd.date_range('2013-01-01', '2017-08-31'))\n",
    "\n",
    "oil = pd.read_csv(datafolder + 'oil.csv', parse_dates=['date'], infer_datetime_format=True, index_col='date')\n",
    "oil = oil.asfreq(freq = \"D\")\n",
    "oil[\"dcoilwtico\"] = oil[\"dcoilwtico\"].interpolate(limit_direction=\"both\")\n",
    "\n",
    "store_sales = store_sales.merge(oil, how='left', left_index=True, right_index=True)\n",
    "store_sales['dcoilwtico'].fillna(method='ffill', inplace=True)"
   ]
  },
  {
   "cell_type": "code",
   "execution_count": 7,
   "metadata": {
    "tags": []
   },
   "outputs": [
    {
     "data": {
      "text/html": [
       "<div>\n",
       "<style scoped>\n",
       "    .dataframe tbody tr th:only-of-type {\n",
       "        vertical-align: middle;\n",
       "    }\n",
       "\n",
       "    .dataframe tbody tr th {\n",
       "        vertical-align: top;\n",
       "    }\n",
       "\n",
       "    .dataframe thead th {\n",
       "        text-align: right;\n",
       "    }\n",
       "</style>\n",
       "<table border=\"1\" class=\"dataframe\">\n",
       "  <thead>\n",
       "    <tr style=\"text-align: right;\">\n",
       "      <th></th>\n",
       "      <th>dcoilwtico</th>\n",
       "    </tr>\n",
       "  </thead>\n",
       "  <tbody>\n",
       "    <tr>\n",
       "      <th>2013-01-01</th>\n",
       "      <td>93.140000</td>\n",
       "    </tr>\n",
       "    <tr>\n",
       "      <th>2013-01-02</th>\n",
       "      <td>93.140000</td>\n",
       "    </tr>\n",
       "    <tr>\n",
       "      <th>2013-01-03</th>\n",
       "      <td>92.970000</td>\n",
       "    </tr>\n",
       "    <tr>\n",
       "      <th>2013-01-04</th>\n",
       "      <td>93.120000</td>\n",
       "    </tr>\n",
       "    <tr>\n",
       "      <th>2013-01-05</th>\n",
       "      <td>93.146667</td>\n",
       "    </tr>\n",
       "    <tr>\n",
       "      <th>...</th>\n",
       "      <td>...</td>\n",
       "    </tr>\n",
       "    <tr>\n",
       "      <th>2017-08-27</th>\n",
       "      <td>46.816667</td>\n",
       "    </tr>\n",
       "    <tr>\n",
       "      <th>2017-08-28</th>\n",
       "      <td>46.400000</td>\n",
       "    </tr>\n",
       "    <tr>\n",
       "      <th>2017-08-29</th>\n",
       "      <td>46.460000</td>\n",
       "    </tr>\n",
       "    <tr>\n",
       "      <th>2017-08-30</th>\n",
       "      <td>45.960000</td>\n",
       "    </tr>\n",
       "    <tr>\n",
       "      <th>2017-08-31</th>\n",
       "      <td>47.260000</td>\n",
       "    </tr>\n",
       "  </tbody>\n",
       "</table>\n",
       "<p>1704 rows × 1 columns</p>\n",
       "</div>"
      ],
      "text/plain": [
       "            dcoilwtico\n",
       "2013-01-01   93.140000\n",
       "2013-01-02   93.140000\n",
       "2013-01-03   92.970000\n",
       "2013-01-04   93.120000\n",
       "2013-01-05   93.146667\n",
       "...                ...\n",
       "2017-08-27   46.816667\n",
       "2017-08-28   46.400000\n",
       "2017-08-29   46.460000\n",
       "2017-08-30   45.960000\n",
       "2017-08-31   47.260000\n",
       "\n",
       "[1704 rows x 1 columns]"
      ]
     },
     "execution_count": 7,
     "metadata": {},
     "output_type": "execute_result"
    }
   ],
   "source": [
    "store_sales"
   ]
  },
  {
   "cell_type": "code",
   "execution_count": 8,
   "metadata": {
    "tags": []
   },
   "outputs": [],
   "source": [
    "store_sales['dofw'] = store_sales.index.dayofweek"
   ]
  },
  {
   "cell_type": "code",
   "execution_count": 9,
   "metadata": {
    "tags": []
   },
   "outputs": [],
   "source": [
    "hol = pd.read_csv(datafolder + 'holidays_events.csv', parse_dates=['date'], infer_datetime_format=True)\n",
    "\n",
    "hol  = hol .set_index('date').sort_index()\n",
    "hol  = hol [hol .locale == 'National'] \n",
    "hol  = hol .groupby(hol.index).first() # Keep one event only"
   ]
  },
  {
   "cell_type": "code",
   "execution_count": 10,
   "metadata": {
    "tags": []
   },
   "outputs": [
    {
     "data": {
      "text/html": [
       "<div>\n",
       "<style scoped>\n",
       "    .dataframe tbody tr th:only-of-type {\n",
       "        vertical-align: middle;\n",
       "    }\n",
       "\n",
       "    .dataframe tbody tr th {\n",
       "        vertical-align: top;\n",
       "    }\n",
       "\n",
       "    .dataframe thead th {\n",
       "        text-align: right;\n",
       "    }\n",
       "</style>\n",
       "<table border=\"1\" class=\"dataframe\">\n",
       "  <thead>\n",
       "    <tr style=\"text-align: right;\">\n",
       "      <th></th>\n",
       "      <th>dcoilwtico</th>\n",
       "      <th>dofw</th>\n",
       "      <th>wd</th>\n",
       "      <th>type</th>\n",
       "      <th>locale</th>\n",
       "      <th>locale_name</th>\n",
       "      <th>description</th>\n",
       "      <th>transferred</th>\n",
       "    </tr>\n",
       "  </thead>\n",
       "  <tbody>\n",
       "    <tr>\n",
       "      <th>2013-01-01</th>\n",
       "      <td>93.140000</td>\n",
       "      <td>1</td>\n",
       "      <td>1</td>\n",
       "      <td>Holiday</td>\n",
       "      <td>National</td>\n",
       "      <td>Ecuador</td>\n",
       "      <td>Primer dia del ano</td>\n",
       "      <td>False</td>\n",
       "    </tr>\n",
       "    <tr>\n",
       "      <th>2013-01-02</th>\n",
       "      <td>93.140000</td>\n",
       "      <td>2</td>\n",
       "      <td>1</td>\n",
       "      <td>NaN</td>\n",
       "      <td>NaN</td>\n",
       "      <td>NaN</td>\n",
       "      <td>NaN</td>\n",
       "      <td>NaN</td>\n",
       "    </tr>\n",
       "    <tr>\n",
       "      <th>2013-01-03</th>\n",
       "      <td>92.970000</td>\n",
       "      <td>3</td>\n",
       "      <td>1</td>\n",
       "      <td>NaN</td>\n",
       "      <td>NaN</td>\n",
       "      <td>NaN</td>\n",
       "      <td>NaN</td>\n",
       "      <td>NaN</td>\n",
       "    </tr>\n",
       "    <tr>\n",
       "      <th>2013-01-04</th>\n",
       "      <td>93.120000</td>\n",
       "      <td>4</td>\n",
       "      <td>1</td>\n",
       "      <td>NaN</td>\n",
       "      <td>NaN</td>\n",
       "      <td>NaN</td>\n",
       "      <td>NaN</td>\n",
       "      <td>NaN</td>\n",
       "    </tr>\n",
       "    <tr>\n",
       "      <th>2013-01-05</th>\n",
       "      <td>93.146667</td>\n",
       "      <td>5</td>\n",
       "      <td>1</td>\n",
       "      <td>Work Day</td>\n",
       "      <td>National</td>\n",
       "      <td>Ecuador</td>\n",
       "      <td>Recupero puente Navidad</td>\n",
       "      <td>False</td>\n",
       "    </tr>\n",
       "    <tr>\n",
       "      <th>...</th>\n",
       "      <td>...</td>\n",
       "      <td>...</td>\n",
       "      <td>...</td>\n",
       "      <td>...</td>\n",
       "      <td>...</td>\n",
       "      <td>...</td>\n",
       "      <td>...</td>\n",
       "      <td>...</td>\n",
       "    </tr>\n",
       "    <tr>\n",
       "      <th>2017-08-27</th>\n",
       "      <td>46.816667</td>\n",
       "      <td>6</td>\n",
       "      <td>0</td>\n",
       "      <td>NaN</td>\n",
       "      <td>NaN</td>\n",
       "      <td>NaN</td>\n",
       "      <td>NaN</td>\n",
       "      <td>NaN</td>\n",
       "    </tr>\n",
       "    <tr>\n",
       "      <th>2017-08-28</th>\n",
       "      <td>46.400000</td>\n",
       "      <td>0</td>\n",
       "      <td>1</td>\n",
       "      <td>NaN</td>\n",
       "      <td>NaN</td>\n",
       "      <td>NaN</td>\n",
       "      <td>NaN</td>\n",
       "      <td>NaN</td>\n",
       "    </tr>\n",
       "    <tr>\n",
       "      <th>2017-08-29</th>\n",
       "      <td>46.460000</td>\n",
       "      <td>1</td>\n",
       "      <td>1</td>\n",
       "      <td>NaN</td>\n",
       "      <td>NaN</td>\n",
       "      <td>NaN</td>\n",
       "      <td>NaN</td>\n",
       "      <td>NaN</td>\n",
       "    </tr>\n",
       "    <tr>\n",
       "      <th>2017-08-30</th>\n",
       "      <td>45.960000</td>\n",
       "      <td>2</td>\n",
       "      <td>1</td>\n",
       "      <td>NaN</td>\n",
       "      <td>NaN</td>\n",
       "      <td>NaN</td>\n",
       "      <td>NaN</td>\n",
       "      <td>NaN</td>\n",
       "    </tr>\n",
       "    <tr>\n",
       "      <th>2017-08-31</th>\n",
       "      <td>47.260000</td>\n",
       "      <td>3</td>\n",
       "      <td>1</td>\n",
       "      <td>NaN</td>\n",
       "      <td>NaN</td>\n",
       "      <td>NaN</td>\n",
       "      <td>NaN</td>\n",
       "      <td>NaN</td>\n",
       "    </tr>\n",
       "  </tbody>\n",
       "</table>\n",
       "<p>1704 rows × 8 columns</p>\n",
       "</div>"
      ],
      "text/plain": [
       "            dcoilwtico  dofw  wd      type    locale locale_name  \\\n",
       "2013-01-01   93.140000     1   1   Holiday  National     Ecuador   \n",
       "2013-01-02   93.140000     2   1       NaN       NaN         NaN   \n",
       "2013-01-03   92.970000     3   1       NaN       NaN         NaN   \n",
       "2013-01-04   93.120000     4   1       NaN       NaN         NaN   \n",
       "2013-01-05   93.146667     5   1  Work Day  National     Ecuador   \n",
       "...                ...   ...  ..       ...       ...         ...   \n",
       "2017-08-27   46.816667     6   0       NaN       NaN         NaN   \n",
       "2017-08-28   46.400000     0   1       NaN       NaN         NaN   \n",
       "2017-08-29   46.460000     1   1       NaN       NaN         NaN   \n",
       "2017-08-30   45.960000     2   1       NaN       NaN         NaN   \n",
       "2017-08-31   47.260000     3   1       NaN       NaN         NaN   \n",
       "\n",
       "                        description transferred  \n",
       "2013-01-01       Primer dia del ano       False  \n",
       "2013-01-02                      NaN         NaN  \n",
       "2013-01-03                      NaN         NaN  \n",
       "2013-01-04                      NaN         NaN  \n",
       "2013-01-05  Recupero puente Navidad       False  \n",
       "...                             ...         ...  \n",
       "2017-08-27                      NaN         NaN  \n",
       "2017-08-28                      NaN         NaN  \n",
       "2017-08-29                      NaN         NaN  \n",
       "2017-08-30                      NaN         NaN  \n",
       "2017-08-31                      NaN         NaN  \n",
       "\n",
       "[1704 rows x 8 columns]"
      ]
     },
     "execution_count": 10,
     "metadata": {},
     "output_type": "execute_result"
    }
   ],
   "source": [
    "store_sales['dofw'] = store_sales.index.dayofweek\n",
    "store_sales['wd'] =1\n",
    "store_sales.loc[store_sales.dofw > 4, 'wd'] = 0\n",
    "store_sales = store_sales.merge(hol, how='left', left_index=True, right_index=True)\n",
    "store_sales.loc[store_sales.type == 'Work Day', 'wd'] = 1\n",
    "store_sales.loc[store_sales.type == 'Transfer', 'wd'] = 0\n",
    "store_sales.loc[store_sales.type == 'Bridge', 'wd'] = 0 \n",
    "store_sales.loc[(store_sales.type == 'Store_salesiday') & (store_sales.transferred == False), 'wd'] = 0\n",
    "store_sales.loc[(store_sales.type == 'Store_salesiday') & (store_sales.transferred == True), 'wd'] = 1 \n",
    "\n",
    "store_sales"
   ]
  },
  {
   "cell_type": "code",
   "execution_count": 11,
   "metadata": {
    "tags": []
   },
   "outputs": [],
   "source": [
    "train = pd.read_csv(datafolder + 'train.csv',\n",
    "                       usecols=['store_nbr', 'family', 'date', 'sales'],\n",
    "                       dtype={'store_nbr': 'category', 'family': 'category', 'sales': 'float32'},\n",
    "                       parse_dates=['date'], infer_datetime_format=True)\n",
    "train.date = train.date.dt.to_period('D')\n",
    "train = train.set_index(['store_nbr', 'family', 'date']).sort_index()\n",
    "\n",
    "test = pd.read_csv(datafolder + 'test.csv',\n",
    "                      usecols=['store_nbr', 'family', 'date'],\n",
    "                      dtype={'store_nbr': 'category', 'family': 'category'},\n",
    "                      parse_dates=['date'], infer_datetime_format=True)\n",
    "test.date = test.date.dt.to_period('D')\n",
    "test = test.set_index(['store_nbr', 'family', 'date']).sort_index()"
   ]
  },
  {
   "cell_type": "code",
   "execution_count": 12,
   "metadata": {
    "tags": []
   },
   "outputs": [],
   "source": [
    "start_date='2017-04-01'\n",
    "end_date='2017-08-15'"
   ]
  },
  {
   "cell_type": "code",
   "execution_count": 13,
   "metadata": {
    "tags": []
   },
   "outputs": [],
   "source": [
    "from sklearn.pipeline import Pipeline\n",
    "from sklearn.preprocessing import StandardScaler"
   ]
  },
  {
   "cell_type": "code",
   "execution_count": 14,
   "metadata": {
    "tags": []
   },
   "outputs": [],
   "source": [
    "y = train.unstack(['store_nbr', 'family']).loc[start_date:end_date]\n",
    "\n",
    "fourier = CalendarFourier(freq='W', order=4)\n",
    "dp = DeterministicProcess(index=y.index,\n",
    "                          constant=False,\n",
    "                          order=1,\n",
    "                          seasonal=False,\n",
    "                          additional_terms=[fourier],\n",
    "                          drop=True)\n",
    "X = dp.in_sample()\n",
    "\n",
    "X['oil']  = store_sales.loc[start_date:end_date]['dcoilwtico'].values\n",
    "X['dofw'] = store_sales.loc[start_date:end_date]['dofw'].values\n",
    "X['wd']   = store_sales.loc[start_date:end_date]['wd'].values\n",
    "X['type'] = store_sales.loc[start_date:end_date]['type'].values\n",
    "\n",
    "X = pd.get_dummies(X, columns=['dofw'], drop_first=True)\n",
    "X = pd.get_dummies(X, columns=['type'], drop_first=False)\n",
    "\n",
    "ridge_reg = Pipeline([\n",
    "    ('scal', StandardScaler()),\n",
    "    ('ridge', Ridge(alpha=0.5, random_state=1))\n",
    "])\n",
    "ridge_reg.fit(X, y)\n",
    "y_pred = pd.DataFrame(ridge_reg.predict(X), index=X.index, columns=y.columns)"
   ]
  },
  {
   "cell_type": "code",
   "execution_count": 15,
   "metadata": {
    "tags": []
   },
   "outputs": [
    {
     "data": {
      "text/plain": [
       "family\n",
       "AUTOMOTIVE                    0.251506\n",
       "BABY CARE                     0.066529\n",
       "BEAUTY                        0.256977\n",
       "BEVERAGES                     0.185602\n",
       "BOOKS                         0.026616\n",
       "BREAD/BAKERY                  0.113255\n",
       "CELEBRATION                   0.285581\n",
       "CLEANING                      0.203166\n",
       "DAIRY                         0.123794\n",
       "DELI                          0.097174\n",
       "EGGS                          0.132988\n",
       "FROZEN FOODS                  0.147800\n",
       "GROCERY I                     0.197506\n",
       "GROCERY II                    0.338675\n",
       "HARDWARE                      0.270007\n",
       "HOME AND KITCHEN I            0.252094\n",
       "HOME AND KITCHEN II           0.217944\n",
       "HOME APPLIANCES               0.150335\n",
       "HOME CARE                     0.112875\n",
       "LADIESWEAR                    0.251129\n",
       "LAWN AND GARDEN               0.192196\n",
       "LINGERIE                      0.397195\n",
       "LIQUOR,WINE,BEER              0.630423\n",
       "MAGAZINES                     0.249641\n",
       "MEATS                         0.107271\n",
       "PERSONAL CARE                 0.128820\n",
       "PET SUPPLIES                  0.202963\n",
       "PLAYERS AND ELECTRONICS       0.215868\n",
       "POULTRY                       0.119631\n",
       "PREPARED FOODS                0.118616\n",
       "PRODUCE                       0.166266\n",
       "SCHOOL AND OFFICE SUPPLIES    1.497227\n",
       "SEAFOOD                       0.247448\n",
       "dtype: float64"
      ]
     },
     "execution_count": 15,
     "metadata": {},
     "output_type": "execute_result"
    }
   ],
   "source": [
    "y_pred   = y_pred.stack(['store_nbr', 'family']).reset_index()\n",
    "y_target = y.stack(['store_nbr', 'family']).reset_index().copy()\n",
    "y_target['sales_pred'] = y_pred['sales'].clip(0.) \n",
    "y_target.groupby('family').apply(lambda r: mean_squared_log_error(r['sales'], r['sales_pred']))"
   ]
  },
  {
   "cell_type": "code",
   "execution_count": 16,
   "metadata": {
    "tags": []
   },
   "outputs": [],
   "source": [
    "end_test='2017-08-31'\n",
    "start_test='2017-08-16'\n",
    "X_test = dp.out_of_sample(steps=16)\n",
    "\n",
    "X_test['oil']  = store_sales.loc[start_test:end_test]['dcoilwtico'].values\n",
    "X_test['dofw'] = store_sales.loc[start_test:end_test]['dofw'].values\n",
    "X_test['wd']   = store_sales.loc[start_test:end_test]['wd'].values\n",
    "\n",
    "X_test = pd.get_dummies(X_test, columns=['dofw'], drop_first=True)\n",
    "\n",
    "# No national level events in this period\n",
    "X_test[['type_Additional', 'type_Event', 'type_Holiday', 'type_Transfer']] = 0\n",
    "\n",
    "sales_pred = pd.DataFrame(ridge_reg.predict(X_test), index=X_test.index, columns=y.columns)\n",
    "sales_pred = sales_pred.stack(['store_nbr', 'family'])\n",
    "sales_pred[sales_pred < 0] = 0. "
   ]
  },
  {
   "cell_type": "code",
   "execution_count": 17,
   "metadata": {
    "tags": []
   },
   "outputs": [],
   "source": [
    "My_submission = pd.read_csv(datafolder + 'sample_submission.csv', index_col='id')\n",
    "My_submission.sales = sales_pred.values\n",
    "My_submission.to_csv('submission0616.csv', index=True)"
   ]
  },
  {
   "cell_type": "code",
   "execution_count": 18,
   "metadata": {
    "tags": []
   },
   "outputs": [
    {
     "data": {
      "text/html": [
       "<div>\n",
       "<style scoped>\n",
       "    .dataframe tbody tr th:only-of-type {\n",
       "        vertical-align: middle;\n",
       "    }\n",
       "\n",
       "    .dataframe tbody tr th {\n",
       "        vertical-align: top;\n",
       "    }\n",
       "\n",
       "    .dataframe thead th {\n",
       "        text-align: right;\n",
       "    }\n",
       "</style>\n",
       "<table border=\"1\" class=\"dataframe\">\n",
       "  <thead>\n",
       "    <tr style=\"text-align: right;\">\n",
       "      <th></th>\n",
       "      <th>sales</th>\n",
       "    </tr>\n",
       "    <tr>\n",
       "      <th>id</th>\n",
       "      <th></th>\n",
       "    </tr>\n",
       "  </thead>\n",
       "  <tbody>\n",
       "    <tr>\n",
       "      <th>3000888</th>\n",
       "      <td>4.433506</td>\n",
       "    </tr>\n",
       "    <tr>\n",
       "      <th>3000889</th>\n",
       "      <td>0.000000</td>\n",
       "    </tr>\n",
       "    <tr>\n",
       "      <th>3000890</th>\n",
       "      <td>4.351624</td>\n",
       "    </tr>\n",
       "    <tr>\n",
       "      <th>3000891</th>\n",
       "      <td>2475.784313</td>\n",
       "    </tr>\n",
       "    <tr>\n",
       "      <th>3000892</th>\n",
       "      <td>0.441471</td>\n",
       "    </tr>\n",
       "    <tr>\n",
       "      <th>...</th>\n",
       "      <td>...</td>\n",
       "    </tr>\n",
       "    <tr>\n",
       "      <th>3029395</th>\n",
       "      <td>307.960100</td>\n",
       "    </tr>\n",
       "    <tr>\n",
       "      <th>3029396</th>\n",
       "      <td>81.206665</td>\n",
       "    </tr>\n",
       "    <tr>\n",
       "      <th>3029397</th>\n",
       "      <td>1149.914279</td>\n",
       "    </tr>\n",
       "    <tr>\n",
       "      <th>3029398</th>\n",
       "      <td>93.009091</td>\n",
       "    </tr>\n",
       "    <tr>\n",
       "      <th>3029399</th>\n",
       "      <td>12.251825</td>\n",
       "    </tr>\n",
       "  </tbody>\n",
       "</table>\n",
       "<p>28512 rows × 1 columns</p>\n",
       "</div>"
      ],
      "text/plain": [
       "               sales\n",
       "id                  \n",
       "3000888     4.433506\n",
       "3000889     0.000000\n",
       "3000890     4.351624\n",
       "3000891  2475.784313\n",
       "3000892     0.441471\n",
       "...              ...\n",
       "3029395   307.960100\n",
       "3029396    81.206665\n",
       "3029397  1149.914279\n",
       "3029398    93.009091\n",
       "3029399    12.251825\n",
       "\n",
       "[28512 rows x 1 columns]"
      ]
     },
     "execution_count": 18,
     "metadata": {},
     "output_type": "execute_result"
    }
   ],
   "source": [
    "My_submission"
   ]
  }
 ],
 "metadata": {
  "kernelspec": {
   "display_name": "Python 3 (ipykernel)",
   "language": "python",
   "name": "python3"
  },
  "language_info": {
   "codemirror_mode": {
    "name": "ipython",
    "version": 3
   },
   "file_extension": ".py",
   "mimetype": "text/x-python",
   "name": "python",
   "nbconvert_exporter": "python",
   "pygments_lexer": "ipython3",
   "version": "3.9.7"
  }
 },
 "nbformat": 4,
 "nbformat_minor": 4
}
